{
  "nbformat": 4,
  "nbformat_minor": 0,
  "metadata": {
    "colab": {
      "provenance": [],
      "gpuType": "T4"
    },
    "kernelspec": {
      "name": "python3",
      "display_name": "Python 3"
    },
    "language_info": {
      "name": "python"
    },
    "accelerator": "GPU"
  },
  "cells": [
    {
      "cell_type": "code",
      "execution_count": null,
      "metadata": {
        "colab": {
          "base_uri": "https://localhost:8080/"
        },
        "id": "RtBY3hoo5GyP",
        "outputId": "7b4ecaa4-e717-4657-de3a-1ae02c39e725"
      },
      "outputs": [
        {
          "output_type": "stream",
          "name": "stdout",
          "text": [
            "--2025-04-22 09:48:37--  https://developer.download.nvidia.com/compute/cuda/11.8.0/local_installers/cuda_11.8.0_520.61.05_linux.run\n",
            "Resolving developer.download.nvidia.com (developer.download.nvidia.com)... 23.59.88.195, 23.59.88.207\n",
            "Connecting to developer.download.nvidia.com (developer.download.nvidia.com)|23.59.88.195|:443... connected.\n",
            "HTTP request sent, awaiting response... 200 OK\n",
            "Length: 4336730777 (4.0G) [application/octet-stream]\n",
            "Saving to: ‘cuda_11.8.0_520.61.05_linux.run’\n",
            "\n",
            "cuda_11.8.0_520.61. 100%[===================>]   4.04G   257MB/s    in 31s     \n",
            "\n",
            "2025-04-22 09:49:08 (132 MB/s) - ‘cuda_11.8.0_520.61.05_linux.run’ saved [4336730777/4336730777]\n",
            "\n",
            "Unknown option: --silent --toolkit\n"
          ]
        }
      ],
      "source": [
        "!wget https://developer.download.nvidia.com/compute/cuda/11.8.0/local_installers/cuda_11.8.0_520.61.05_linux.run\n",
        "!sudo sh cuda_11.8.0_520.61.05_linux.run --silent --toolkit"
      ]
    },
    {
      "cell_type": "code",
      "source": [
        "import os\n",
        "os.environ['PATH'] = '/usr/local/cuda-11.8/bin:' + os.environ['PATH']\n",
        "os.environ['LD_LIBRARY_PATH'] = '/usr/local/cuda-11.8/lib64:' + os.environ['LD_LIBRARY_PATH']"
      ],
      "metadata": {
        "id": "q5P4lPBs6mTK"
      },
      "execution_count": null,
      "outputs": []
    },
    {
      "cell_type": "code",
      "source": [
        "%%writefile non_linear_cpu.cpp\n",
        "// cpu_nonlinear.cpp\n",
        "#include <stdio.h>\n",
        "#include <math.h>\n",
        "#include <chrono>\n",
        "\n",
        "#define N 10000000\n",
        "\n",
        "void nonlinear_cpu(float* x, float* y, int n) {\n",
        "    for (int i = 0; i < n; i++) {\n",
        "        y[i] = sinf(x[i]) + logf(x[i] + 1.0f) + sqrtf(x[i]);\n",
        "    }\n",
        "}\n",
        "\n",
        "int main() {\n",
        "    float *x, *y;\n",
        "    x = new float[N];\n",
        "    y = new float[N];\n",
        "\n",
        "    // Initialize input\n",
        "    for (int i = 0; i < N; i++) {\n",
        "        x[i] = ((float)rand() / RAND_MAX);\n",
        "    }\n",
        "\n",
        "    auto t1 = std::chrono::high_resolution_clock::now();\n",
        "    nonlinear_cpu(x, y, N);\n",
        "    auto t2 = std::chrono::high_resolution_clock::now();\n",
        "\n",
        "    std::chrono::duration<double> elapsed = t2 - t1;\n",
        "    printf(\"CPU time: %.4f s\\n\", elapsed.count());\n",
        "\n",
        "    delete[] x;\n",
        "    delete[] y;\n",
        "    return 0;\n",
        "}\n"
      ],
      "metadata": {
        "colab": {
          "base_uri": "https://localhost:8080/"
        },
        "id": "NtWyYIld6rJ1",
        "outputId": "579b1528-fc93-491c-b0dc-0e34f7bda065"
      },
      "execution_count": null,
      "outputs": [
        {
          "output_type": "stream",
          "name": "stdout",
          "text": [
            "Writing non_linear_cpu.cpp\n"
          ]
        }
      ]
    },
    {
      "cell_type": "code",
      "source": [
        "!nvcc -o cpu_exec non_linear_cpu.cpp"
      ],
      "metadata": {
        "id": "tFD6DzwN7pZS"
      },
      "execution_count": null,
      "outputs": []
    },
    {
      "cell_type": "code",
      "source": [
        "!./cpu_exec"
      ],
      "metadata": {
        "colab": {
          "base_uri": "https://localhost:8080/"
        },
        "id": "JDu0nEkz9F3x",
        "outputId": "1912210d-359d-4fc0-f6e8-9360ae608fb2"
      },
      "execution_count": null,
      "outputs": [
        {
          "output_type": "stream",
          "name": "stdout",
          "text": [
            "CPU time: 0.3272 s\n"
          ]
        }
      ]
    },
    {
      "cell_type": "code",
      "source": [
        "%%writefile non_linear_gpu.cu\n",
        "// gpu_nonlinear.cu\n",
        "#include <stdio.h>\n",
        "#include <math.h>\n",
        "#include <cuda_runtime.h>\n",
        "\n",
        "#define N 10000000\n",
        "\n",
        "__global__ void nonlinear_kernel(float* x, float* y, int n) {\n",
        "    int idx = blockIdx.x * blockDim.x + threadIdx.x;\n",
        "    if (idx < n) {\n",
        "        y[idx] = sinf(x[idx]) + logf(x[idx] + 1.0f) + sqrtf(x[idx]);\n",
        "    }\n",
        "}\n",
        "\n",
        "int main() {\n",
        "    float *x_host, *y_host;\n",
        "    float *x_dev, *y_dev;\n",
        "\n",
        "    x_host = (float*)malloc(N * sizeof(float));\n",
        "    y_host = (float*)malloc(N * sizeof(float));\n",
        "\n",
        "    for (int i = 0; i < N; i++) {\n",
        "        x_host[i] = ((float)rand() / RAND_MAX);\n",
        "    }\n",
        "\n",
        "    cudaMalloc(&x_dev, N * sizeof(float));\n",
        "    cudaMalloc(&y_dev, N * sizeof(float));\n",
        "    cudaMemcpy(x_dev, x_host, N * sizeof(float), cudaMemcpyHostToDevice);\n",
        "\n",
        "    int threadsPerBlock = 256;\n",
        "    int blocksPerGrid = (N + threadsPerBlock - 1) / threadsPerBlock;\n",
        "\n",
        "    printf(\"Threads per block: %d\\n\", threadsPerBlock);\n",
        "    printf(\"Blocks per grid:   %d\\n\", blocksPerGrid);\n",
        "    printf(\"Total GPU threads launched: %d\\n\", blocksPerGrid * threadsPerBlock);\n",
        "\n",
        "    cudaEvent_t start, stop;\n",
        "    cudaEventCreate(&start);\n",
        "    cudaEventCreate(&stop);\n",
        "    cudaEventRecord(start);\n",
        "\n",
        "    nonlinear_kernel<<<blocksPerGrid, threadsPerBlock>>>(x_dev, y_dev, N);\n",
        "\n",
        "    cudaEventRecord(stop);\n",
        "    cudaEventSynchronize(stop);\n",
        "    float ms = 0;\n",
        "    cudaEventElapsedTime(&ms, start, stop);\n",
        "    printf(\"GPU time: %.4f s\\n\", ms / 1000.0f);\n",
        "\n",
        "    cudaMemcpy(y_host, y_dev, N * sizeof(float), cudaMemcpyDeviceToHost);\n",
        "\n",
        "    free(x_host);\n",
        "    free(y_host);\n",
        "    cudaFree(x_dev);\n",
        "    cudaFree(y_dev);\n",
        "    return 0;\n",
        "}\n"
      ],
      "metadata": {
        "colab": {
          "base_uri": "https://localhost:8080/"
        },
        "id": "QTvt6TP39q_x",
        "outputId": "e433c1d7-c46a-4213-fe9e-c1260a3f2e90"
      },
      "execution_count": null,
      "outputs": [
        {
          "output_type": "stream",
          "name": "stdout",
          "text": [
            "Writing non_linear_gpu.cu\n"
          ]
        }
      ]
    },
    {
      "cell_type": "code",
      "source": [
        "!nvcc -o gpu_exec non_linear_gpu.cu\n"
      ],
      "metadata": {
        "id": "xXKPwpVe94Xj"
      },
      "execution_count": null,
      "outputs": []
    },
    {
      "cell_type": "code",
      "source": [
        "!./gpu_exec"
      ],
      "metadata": {
        "colab": {
          "base_uri": "https://localhost:8080/"
        },
        "id": "0Ap4tEfD-G9X",
        "outputId": "82d10f9c-95e7-4ddd-e1ef-43247b485fc9"
      },
      "execution_count": null,
      "outputs": [
        {
          "output_type": "stream",
          "name": "stdout",
          "text": [
            "Threads per block: 256\n",
            "Blocks per grid:   39063\n",
            "Total GPU threads launched: 10000128\n",
            "GPU time: 0.0506 s\n"
          ]
        }
      ]
    }
  ]
}